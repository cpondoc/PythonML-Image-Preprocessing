{
 "cells": [
  {
   "cell_type": "markdown",
   "metadata": {},
   "source": [
    "# Making Folds for K-Fold Cross Validation"
   ]
  },
  {
   "cell_type": "markdown",
   "metadata": {},
   "source": [
    "Making $k = 4$ folds for K-Fold Cross Validation. This notebook can be used for both patch extraction and downsizing images."
   ]
  },
  {
   "cell_type": "markdown",
   "metadata": {},
   "source": [
    "### Important Directories"
   ]
  },
  {
   "cell_type": "code",
   "execution_count": 1,
   "metadata": {},
   "outputs": [],
   "source": [
    "# For accessing all of the images and files and folders and pathways\n",
    "import os\n",
    "import shutil\n",
    "import random"
   ]
  },
  {
   "cell_type": "markdown",
   "metadata": {},
   "source": [
    "### Making Folders"
   ]
  },
  {
   "cell_type": "markdown",
   "metadata": {},
   "source": [
    "Making folders for each fold."
   ]
  },
  {
   "cell_type": "code",
   "execution_count": 2,
   "metadata": {},
   "outputs": [],
   "source": [
    "def make_folders():\n",
    "\n",
    "    # Making overarching folds folder\n",
    "    os.mkdir(\"downsize_folds\")\n",
    "\n",
    "    # Creating each fold folder\n",
    "    for i in range(1, 5):\n",
    "\n",
    "        # Making the fold folder\n",
    "        os.mkdir(\"downsize_folds/\" + str(i))\n",
    "        \n",
    "        # Making the carcinoma folder\n",
    "        os.mkdir(\"downsize_folds/\" + str(i) + \"/c\")\n",
    "        \n",
    "        # Making the sarcoma folder\n",
    "        os.mkdir(\"downsize_folds/\" + str(i) + \"/s\")"
   ]
  },
  {
   "cell_type": "markdown",
   "metadata": {},
   "source": [
    "### Gathering All Images"
   ]
  },
  {
   "cell_type": "markdown",
   "metadata": {},
   "source": [
    "Scraping all of the images from the train and validation folders."
   ]
  },
  {
   "cell_type": "code",
   "execution_count": 3,
   "metadata": {},
   "outputs": [],
   "source": [
    "# Arrays of original images\n",
    "train_c = []\n",
    "train_s = []\n",
    "val_c = []\n",
    "val_s = []\n",
    "\n",
    "# Getting all the images\n",
    "def gather_images():\n",
    "\n",
    "    # Overarching folder\n",
    "    original_patches = \"normalized_data\"\n",
    "\n",
    "    # Different types of cancers\n",
    "    types = [\"c\", \"s\"]\n",
    "\n",
    "    # Crawling through contained folders\n",
    "    for typo in types:\n",
    "\n",
    "        # Gathering the training and validatino sets\n",
    "        train_set = os.listdir(original_patches + \"/train/\" + typo)\n",
    "        val_set = os.listdir(original_patches + \"/val/\" + typo)\n",
    "\n",
    "        # Adding all of the training images\n",
    "        for image in train_set:\n",
    "            if (typo == \"c\"):\n",
    "                train_c.append(original_patches + \"/train/\" + typo + \"/\" + image)\n",
    "            else:\n",
    "                train_s.append(original_patches + \"/train/\" + typo + \"/\" + image)\n",
    "\n",
    "        # Adding all of the validation images\n",
    "        for image in val_set:\n",
    "            if (typo == \"c\"):\n",
    "                val_c.append(original_patches + \"/val/\" + typo + \"/\" + image)\n",
    "            else:\n",
    "                val_s.append(original_patches + \"/val/\" + typo + \"/\" + image)"
   ]
  },
  {
   "cell_type": "markdown",
   "metadata": {},
   "source": [
    "### Creating arrays for each of the folds"
   ]
  },
  {
   "cell_type": "markdown",
   "metadata": {},
   "source": [
    "In this case, there are $k = 4$ folds. However, for an arbitrary $k$ amount of folds, simply change the code for fourth to another constant and adjust the for loops accordingly."
   ]
  },
  {
   "cell_type": "code",
   "execution_count": 4,
   "metadata": {},
   "outputs": [],
   "source": [
    "# Container to hold the folds\n",
    "fold_1 = []\n",
    "fold_2 = []\n",
    "fold_3 = []\n",
    "fold_4 = []\n",
    "\n",
    "# Function to create into folds\n",
    "def create_folds(data_folder):\n",
    "    \n",
    "    # Randomly Seed\n",
    "    random.seed(random.randint(1, 10000))\n",
    "    \n",
    "    # Checking the cancer_type and data_type\n",
    "    random.shuffle(data_folder)\n",
    "    \n",
    "    # Splitting the data set into fourths\n",
    "    fourth = int(len(data_folder) / 4)\n",
    "    \n",
    "    # Putting images into the first fold\n",
    "    for i in range(0, fourth):\n",
    "        fold_1.append(data_folder[i])\n",
    "    \n",
    "    # Putting images into the second fold\n",
    "    for i in range(fourth, 2 * fourth):\n",
    "        fold_2.append(data_folder[i])\n",
    "    \n",
    "    # Putting images into the third fold\n",
    "    for i in range(2 * fourth, 3 * fourth):\n",
    "        fold_3.append(data_folder[i])\n",
    "        \n",
    "    # Putting images into the fourth fold\n",
    "    for i in range(3 * fourth, len(data_folder)):\n",
    "        fold_4.append(data_folder[i])"
   ]
  },
  {
   "cell_type": "markdown",
   "metadata": {},
   "source": [
    "### Checking fold length"
   ]
  },
  {
   "cell_type": "markdown",
   "metadata": {},
   "source": [
    "Checking the length of each fold."
   ]
  },
  {
   "cell_type": "code",
   "execution_count": 5,
   "metadata": {},
   "outputs": [],
   "source": [
    "def fold_check():\n",
    "    \n",
    "    # Checking the length of each fold\n",
    "    print(\"Fold 1 Length: \" + str(len(fold_1)))\n",
    "    print(\"Fold 2 Length: \" + str(len(fold_2)))\n",
    "    print(\"Fold 3 Length: \" + str(len(fold_3)))\n",
    "    print(\"Fold 4 Length: \" + str(len(fold_4)))"
   ]
  },
  {
   "cell_type": "markdown",
   "metadata": {},
   "source": [
    "### Copying images from arrays into folders"
   ]
  },
  {
   "cell_type": "markdown",
   "metadata": {},
   "source": [
    "Taking the arrays of image names and copying the actual images into folders."
   ]
  },
  {
   "cell_type": "code",
   "execution_count": 6,
   "metadata": {},
   "outputs": [],
   "source": [
    "def copy_images(fold, target_folder):\n",
    "    \n",
    "    # Parses through each image in the fold array\n",
    "    for image in fold:\n",
    "        \n",
    "        # Checking last index of the image name\n",
    "        if (\"/c/\" in image):\n",
    "            \n",
    "            # Copies each image into the fold folder\n",
    "            shutil.copy(image, \"downsize_folds/\" + target_folder + \"/c/\")\n",
    "            \n",
    "        else:\n",
    "            \n",
    "            shutil.copy(image, \"downsize_folds/\" + target_folder + \"/s\")"
   ]
  },
  {
   "cell_type": "markdown",
   "metadata": {},
   "source": [
    "### Testing all of the Functions"
   ]
  },
  {
   "cell_type": "markdown",
   "metadata": {},
   "source": [
    "Making the folders, then gathering all of the images, creating the arrays, and then copying images from the arrays into their respective folders."
   ]
  },
  {
   "cell_type": "code",
   "execution_count": 7,
   "metadata": {},
   "outputs": [
    {
     "name": "stdout",
     "output_type": "stream",
     "text": [
      "Fold 1 Length: 324\n",
      "Fold 2 Length: 324\n",
      "Fold 3 Length: 324\n",
      "Fold 4 Length: 332\n"
     ]
    }
   ],
   "source": [
    "make_folders() # Make the folders\n",
    "\n",
    "gather_images() # Gather the images\n",
    "\n",
    "# Create the folds\n",
    "create_folds(val_c) \n",
    "create_folds(val_s)\n",
    "create_folds(train_c)\n",
    "create_folds(train_s)\n",
    "\n",
    "fold_check() # Check numbers in the folds (for troubleshooting)\n",
    "\n",
    "# Copying the images\n",
    "copy_images(fold_1, \"1\")\n",
    "copy_images(fold_2, \"2\")\n",
    "copy_images(fold_3, \"3\")\n",
    "copy_images(fold_4, \"4\")"
   ]
  },
  {
   "cell_type": "code",
   "execution_count": null,
   "metadata": {},
   "outputs": [],
   "source": []
  }
 ],
 "metadata": {
  "kernelspec": {
   "display_name": "Python 3",
   "language": "python",
   "name": "python3"
  },
  "language_info": {
   "codemirror_mode": {
    "name": "ipython",
    "version": 3
   },
   "file_extension": ".py",
   "mimetype": "text/x-python",
   "name": "python",
   "nbconvert_exporter": "python",
   "pygments_lexer": "ipython3",
   "version": "3.7.3"
  }
 },
 "nbformat": 4,
 "nbformat_minor": 2
}
