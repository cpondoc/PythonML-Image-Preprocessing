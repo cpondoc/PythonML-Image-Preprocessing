{
 "cells": [
  {
   "cell_type": "markdown",
   "metadata": {},
   "source": [
    "# Generating Patches"
   ]
  },
  {
   "cell_type": "markdown",
   "metadata": {},
   "source": [
    "Generating patches for the new entire PDMR dataset."
   ]
  },
  {
   "cell_type": "markdown",
   "metadata": {},
   "source": [
    "### Importing Libraries"
   ]
  },
  {
   "cell_type": "markdown",
   "metadata": {},
   "source": [
    "All the libraries necessary to perform this operation."
   ]
  },
  {
   "cell_type": "code",
   "execution_count": 1,
   "metadata": {},
   "outputs": [],
   "source": [
    "from PIL import Image\n",
    "import os\n",
    "import matplotlib.pyplot as plt\n",
    "import matplotlib.image as mpimg"
   ]
  },
  {
   "cell_type": "markdown",
   "metadata": {},
   "source": [
    "### Function to Generate Patches"
   ]
  },
  {
   "cell_type": "markdown",
   "metadata": {},
   "source": [
    "All the libraries necessary to perform this operation."
   ]
  },
  {
   "cell_type": "code",
   "execution_count": 2,
   "metadata": {},
   "outputs": [],
   "source": [
    "def generate_patches(rootDirectory):\n",
    "    imagesList = os.listdir(rootDirectory)\n",
    "    for imageName in imagesList:\n",
    "        im = Image.open(rootDirectory + \"/\" + imageName)\n",
    "        width, height = im.size\n",
    "        x = 0\n",
    "        y = 0\n",
    "        counter = 0\n",
    "        while (y < 1000):\n",
    "            x = 0\n",
    "            while (x < 1000):\n",
    "                box = (x, y, x + 256, y + 256)\n",
    "                region = im.crop(box)\n",
    "                region.save(\"patches/\" + rootDirectory + \"/\" + imageName + \"-patch\" + str(counter) + \".jpg\", \"JPEG\")\n",
    "                x = x + 128\n",
    "                counter = counter + 1\n",
    "            y = y + 128"
   ]
  },
  {
   "cell_type": "markdown",
   "metadata": {},
   "source": [
    "### Patch Generation Operation"
   ]
  },
  {
   "cell_type": "markdown",
   "metadata": {},
   "source": [
    "Executing the patch generation."
   ]
  },
  {
   "cell_type": "code",
   "execution_count": 4,
   "metadata": {},
   "outputs": [],
   "source": [
    "sourceDirectories = [\"test/c\", \"test/s\", \"train/c\", \"train/s\", \"val/c\", \"val/s\"]\n",
    "for direc in sourceDirectories:\n",
    "    os.rmdir(direc + \"/.ipynb_checkpoints\")\n",
    "    generate_patches(direc)"
   ]
  },
  {
   "cell_type": "markdown",
   "metadata": {},
   "source": [
    "### Statistics Breakdown"
   ]
  },
  {
   "cell_type": "markdown",
   "metadata": {},
   "source": [
    "How many patches were generated."
   ]
  },
  {
   "cell_type": "code",
   "execution_count": 5,
   "metadata": {},
   "outputs": [
    {
     "name": "stdout",
     "output_type": "stream",
     "text": [
      "Number of Patches: \n",
      "test/c = 7680\n",
      "test/s = 1536\n",
      "train/c = 55744\n",
      "train/s = 11072\n",
      "val/c = 13888\n",
      "val/s = 2752\n"
     ]
    }
   ],
   "source": [
    "print(\"Number of Patches: \")\n",
    "for direc in sourceDirectories:\n",
    "    path, dirs, files = next(os.walk(\"patches/\" + direc))\n",
    "    file_count = len(files)\n",
    "    print(direc + \" = \" + str(file_count))"
   ]
  }
 ],
 "metadata": {
  "kernelspec": {
   "display_name": "Python 3",
   "language": "python",
   "name": "python3"
  },
  "language_info": {
   "codemirror_mode": {
    "name": "ipython",
    "version": 3
   },
   "file_extension": ".py",
   "mimetype": "text/x-python",
   "name": "python",
   "nbconvert_exporter": "python",
   "pygments_lexer": "ipython3",
   "version": "3.7.3"
  }
 },
 "nbformat": 4,
 "nbformat_minor": 2
}
